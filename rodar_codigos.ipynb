{
 "cells": [
  {
   "cell_type": "markdown",
   "id": "5260d6b0",
   "metadata": {},
   "source": [
    "# A4 Creator"
   ]
  },
  {
   "cell_type": "code",
   "execution_count": null,
   "id": "0a3f3af9",
   "metadata": {},
   "outputs": [],
   "source": [
    "import os\n",
    "\n",
    "CARD_FOLDER = \"cards\"\n",
    "\n",
    "for file in os.listdir(CARD_FOLDER):\n",
    "    print(file)"
   ]
  },
  {
   "cell_type": "code",
   "execution_count": null,
   "id": "5b467637",
   "metadata": {},
   "outputs": [],
   "source": [
    "card_file_names = [\n",
    "    \"MARTIAL_ARTIST_0.png\",\n",
    "    \"MARTIAL_ARTIST_1.png\",\n",
    "    \"MARTIAL_ARTIST_2.png\",\n",
    "    \"KATARI.png\",\n",
    "    \"SLYBORNE.png\",\n",
    "    \"SEE_IT_COMING.png\",\n",
    "    \"UNTOUCHABLE.png\"]"
   ]
  },
  {
   "cell_type": "code",
   "execution_count": null,
   "id": "dbd565a8",
   "metadata": {},
   "outputs": [],
   "source": [
    "from scripts.a4_creator import paste_cards\n",
    "\n",
    "paste_cards(card_file_names, output_file_name=\"ciro_brawler.jpg\")"
   ]
  },
  {
   "cell_type": "markdown",
   "id": "ee9d9cc6",
   "metadata": {},
   "source": [
    "# Card Extracting"
   ]
  },
  {
   "cell_type": "code",
   "execution_count": null,
   "id": "a4106a94",
   "metadata": {},
   "outputs": [],
   "source": [
    "print(\"teste\")"
   ]
  },
  {
   "cell_type": "code",
   "execution_count": null,
   "id": "59703094",
   "metadata": {},
   "outputs": [],
   "source": [
    "from scripts.card_extractor import card_extracting,extract_title,extract_title_regex,save_all_cards\n",
    "\n",
    "cards = card_extracting(\n",
    "    input_pdf=\"assets/Brawler-v1.5-The-Void.pdf\",\n",
    "    first_page=4,last_page=4)\n",
    "\n",
    "save_all_cards(cards)"
   ]
  }
 ],
 "metadata": {
  "kernelspec": {
   "display_name": ".venv",
   "language": "python",
   "name": "python3"
  },
  "language_info": {
   "codemirror_mode": {
    "name": "ipython",
    "version": 3
   },
   "file_extension": ".py",
   "mimetype": "text/x-python",
   "name": "python",
   "nbconvert_exporter": "python",
   "pygments_lexer": "ipython3",
   "version": "3.12.10"
  }
 },
 "nbformat": 4,
 "nbformat_minor": 5
}
