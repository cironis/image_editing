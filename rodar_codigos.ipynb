{
 "cells": [
  {
   "cell_type": "markdown",
   "id": "5260d6b0",
   "metadata": {},
   "source": [
    "# A4 Creator"
   ]
  },
  {
   "cell_type": "code",
   "execution_count": null,
   "id": "0a3f3af9",
   "metadata": {},
   "outputs": [],
   "source": [
    "import os\n",
    "\n",
    "CARD_FOLDER = \"cards\"\n",
    "\n",
    "for file in os.listdir(CARD_FOLDER):\n",
    "    print(file)"
   ]
  },
  {
   "cell_type": "code",
   "execution_count": null,
   "id": "340991c8",
   "metadata": {},
   "outputs": [],
   "source": [
    "print(\"teste\")"
   ]
  },
  {
   "cell_type": "code",
   "execution_count": null,
   "id": "dbd565a8",
   "metadata": {},
   "outputs": [],
   "source": [
    "from scripts.a4_creator import paste_cards\n",
    "\n",
    "paste_cards(CARD_FILENAMES, output_file_name=\"ciro_brawler.jpg\")"
   ]
  },
  {
   "cell_type": "markdown",
   "id": "ee9d9cc6",
   "metadata": {},
   "source": [
    "# Card Extracting"
   ]
  },
  {
   "cell_type": "code",
   "execution_count": null,
   "id": "59703094",
   "metadata": {},
   "outputs": [],
   "source": [
    "from scripts.card_extractor import card_extracting,extract_title,extract_title_regex,save_all_cards\n",
    "\n",
    "cards = card_extracting(\n",
    "    input_pdf=\"assets/Daggerheart_Core_Rulebook-5-20-2025-1.pdf\",\n",
    "    first_page=386,last_page=415)\n",
    "\n",
    "save_all_cards(cards)"
   ]
  }
 ],
 "metadata": {
  "kernelspec": {
   "display_name": ".venv",
   "language": "python",
   "name": "python3"
  },
  "language_info": {
   "codemirror_mode": {
    "name": "ipython",
    "version": 3
   },
   "file_extension": ".py",
   "mimetype": "text/x-python",
   "name": "python",
   "nbconvert_exporter": "python",
   "pygments_lexer": "ipython3",
   "version": "3.13.5"
  }
 },
 "nbformat": 4,
 "nbformat_minor": 5
}
