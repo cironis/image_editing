{
 "cells": [
  {
   "cell_type": "markdown",
   "id": "5260d6b0",
   "metadata": {},
   "source": [
    "# A4 Creator"
   ]
  },
  {
   "cell_type": "code",
   "execution_count": 1,
   "id": "0a3f3af9",
   "metadata": {},
   "outputs": [
    {
     "name": "stdout",
     "output_type": "stream",
     "text": [
      "['ADJUST_REALITY.png', 'AM_YOUR_SHIELD.png', 'ARCANA-TOUCHED.png', 'ARCANE_REFLECTION.png', 'ARMORER.png', 'ASTRAL_PROJECTION.png', 'A_SOLDIER’S_BOND.png', 'BANISH.png', 'BARE_BONES.png', 'BATTLE-HARDENED.png', 'BATTLE_CRY.png', 'BATTLE_MONSTER.png', 'BEASTBOUND.png', 'BEASTBOUND_1.png', 'BEASTBOUND_2.png', 'BLADE-TOUCHED.png', 'BLINK_OUT.png', 'BODY_BASHER.png', 'BOLD_PRESENCE.png', 'BOLT_BEACON.png', 'BONE-TOUCHED.png', 'BOOK_OF_AVA.png', 'BOOK_OF_EXOTA.png', 'BOOK_OF_GRYNN.png', 'BOOK_OF_HOMET.png', 'BOOK_OF_ILLIAT.png', 'BOOK_OF_KORVAX.png', 'BOOK_OF_NORAI.png', 'BOOK_OF_RONIN.png', 'BOOK_OF_SITIL.png', 'BOOK_OF_TYFAR.png', 'BOOK_OF_VAGRAS.png', 'BOOK_OF_VYOLA.png', 'BOOK_OF_YARROW.png', 'BOOST.png', 'BRACE.png', 'BREAKING_BLOW.png', 'CALL_OF_THE_BRAVE_0.png', 'CALL_OF_THE_BRAVE_1.png', 'CALL_OF_THE_BRAVE_2.png', 'CALL_OF_THE_SLAYER_0.png', 'CALL_OF_THE_SLAYER_1.png', 'CALL_OF_THE_SLAYER_2.png', 'CHAIN_LIGHTNING.png', 'CHAMPION’S_EDGE.png', 'CHOKEHOLD.png', 'CINDER_GRASP.png', 'CLANK.png', 'CLOAKING_BLAST.png', 'CODEX-TOUCHED.png', 'COMMUNITY_J.png', 'CONFUSING_AURA.png', 'CONJURED_STEEDS.png', 'CONJURE_SWARM.png', 'COPYCAT.png', 'CORROSIVE_PROJECTILE.png', 'COUNTERSPELL.png', 'CRITICAL_INSPIRATION.png', 'CRUEL_PRECISION.png', 'DARK_WHISPERS.png', 'DEADLY_FOCUS.png', 'DEATHRUN.png', 'DEATH_GRIP.png', 'DEFT_DECEIVER.png', 'DEFT_MANEUVERS.png', 'DISINTEGRATION_WAVE.png', 'DIVINATION.png', 'DIVINE_WIELDER_0.png', 'DIVINE_WIELDER_1.png', 'DIVINE_WIELDER_2.png', 'DRAKONA.png', 'DWARF.png', 'EARTHQUAKE.png', 'ECLIPSE.png', 'ELEMENTAL_ORIGIN_0.png', 'ELEMENTAL_ORIGIN_1.png', 'ELEMENTAL_ORIGIN_2.png', 'ELF.png', 'ENCORE.png', 'ENDLESS_CHARISMA.png', 'ENRAPTURE.png', 'FAERIE.png', 'FALLING_SKY.png', 'FANE_OF_THE_WILDS.png', 'FAUN.png', 'FEROCITY.png', 'FINAL_WORDS.png', 'FIRBOLG.png', 'FLIGHT.png', 'FLOATING_EYE.png', 'FORAGER.png', 'FORCEFUL_PUSH.png', 'FORCE_OF_NATURE.png', 'FOREST_SPRITES.png', 'FORTIFIED_ARMOR.png', 'FRENZY.png', 'FULL_SURGE.png', 'FUNGRIL.png', 'GALAPA.png', 'GET_BACK_UP.png', 'GIANT.png', 'GIFTED_TRACKER.png', 'GLANCING_BLOW.png', 'GLYPH_OF_NIGHTFALL.png', 'GOAD_THEM_ON.png', 'GOBLIN.png', 'GORE_AND_GLORY.png', 'GRACE-TOUCHED.png', 'GROUND_POUND.png', 'HALFLING.png', 'HEALING_FIELD.png', 'HEALING_HANDS.png', 'HEALING_STRIKE.png', 'HIGHBORNE.png', 'HOLD_THE_LINE.png', 'HUMAN.png', 'HUSH.png', 'HYPNOTIC_SHIMMER.png', 'INEVITABLE.png', 'INFERNIS.png', 'INSPIRATIONAL_WORDS.png', 'INVIGORATION.png', 'INVISIBILITY.png', 'KATARI.png', 'KNOW_THY_ENEMY.png', 'LEAD_BY_EXAMPLE.png', 'LEAN_ON_ME.png', 'LIFE_WARD.png', 'LOREBORNE.png', 'MANIFEST_WALL.png', 'MASS_DISGUISE.png', 'MASS_ENRAPTURE.png', 'MASTER_OF_THE_CRAFT.png', 'MENDING_TOUCH.png', 'MIDNIGHT-TOUCHED.png', 'MIDNIGHT_SPIRIT.png', 'NATURAL_FAMILIAR.png', 'NATURE’S_TONGUE.png', 'NEVER_UPSTAGED.png', 'NIGHTWALKER_0.png', 'NIGHTWALKER_1.png', 'NIGHTWALKER_2.png', 'NIGHT_TERROR.png', 'NOTORIOUS.png', 'NOT_GOOD_ENOUGH.png', 'ONSLAUGHT.png', 'ON_THE_BRINK.png', 'ORC.png', 'ORDERBORNE.png', 'OVERWHELMING_AURA.png', 'PHANTOM_RETREAT.png', 'PICK_AND_PULL.png', 'PLANT_DOMINION.png', 'PREMONITION.png', 'PRESERVATION_BLAST.png', 'PRIMAL_ORIGIN_0.png', 'PRIMAL_ORIGIN_1.png', 'PRIMAL_ORIGIN_2.png', 'RAGE_UP.png', 'RAIN_OF_BLADES.png', 'RAPID_RIPOSTE.png', 'REAPER’S_STRIKE.png', 'REASSURANCE.png', 'RECKLESS.png', 'RECOVERY.png', 'REDIRECT.png', 'REJUVENATION_BARRIER.png', 'RESTORATION.png', 'RESURRECTION.png', 'RIBBET.png', 'RIDGEBORNE.png', 'RIFT_WALKER.png', 'RISE_UP.png', 'ROUSING_STRIKE.png', 'RUNE_WARD.png', 'SAFE_HAVEN.png', 'SAGE-TOUCHED.png', 'SALVATION_BEAM.png', 'SCHOOL_OF_KNOWLEDGE_0.png', 'SCHOOL_OF_KNOWLEDGE_1.png', 'SCHOOL_OF_KNOWLEDGE_2.png', 'SCHOOL_OF_WAR_0.png', 'SCHOOL_OF_WAR_1.png', 'SCHOOL_OF_WAR_2.png', 'SCRAMBLE.png', 'SEABORNE.png', 'SECOND_WIND.png', 'SEE_IT_COMING.png', 'SENSORY_PROJECTION.png', 'SHADOWBIND.png', 'SHADOWHUNTER.png', 'SHAPE_MATERIAL.png', 'SHARE_THE_BURDEN.png', 'SHIELD_AURA.png', 'SHRUG_IT_OFF.png', 'SIGIL_OF_RETRIBUTION.png', 'SIGNATURE_MOVE.png', 'SIMIAH.png', 'SLYBORNE.png', 'SMITE.png', 'SOOTHING_SPEECH.png', 'SPECTER_OF_THE_DARK.png', 'SPELLCHARGE.png', 'SPLENDOR-TOUCHED.png', 'SPLINTERING_STRIKE.png', 'STALWART_0.png', 'STALWART_1.png', 'STALWART_2.png', 'STEALTH_EXPERTISE.png', 'STRATEGIC_APPROACH.png', 'STUNNING_SUNLIGHT.png', 'SUPPORT_TANK.png', 'SWIFT_STEP.png', 'SYNDICATE_0.png', 'SYNDICATE_1.png', 'SYNDICATE_2.png', 'TACTICIAN.png', 'TELEKINESIS.png', 'TELEPORT.png', 'TELL_NO_LIES.png', 'TEMPEST.png', 'THORN_SKIN.png', 'THOUGHT_DELVER.png', 'THROUGH_YOUR_EYES.png', 'TOWERING_STALK.png', 'TRANSCENDENT_UNION.png', 'TROUBADOUR_0.png', 'TROUBADOUR_1.png', 'TROUBADOUR_2.png', 'TROUBLEMAKER.png', 'TWILIGHT_TOLL.png', 'UNBREAKABLE.png', 'UNCANNY_DISGUISE.png', 'UNDERBORNE.png', 'UNLEASH_CHAOS.png', 'UNTOUCHABLE.png', 'UNYIELDING_ARMOR.png', 'VALOR-TOUCHED.png', 'VANISHING_DODGE.png', 'VEIL_OF_NIGHT.png', 'VENGEANCE_0.png', 'VENGEANCE_1.png', 'VENGEANCE_2.png', 'VERSATILE_FIGHTER.png', 'VICIOUS_ENTANGLE.png', 'VITALITY.png', 'VOICE_OF_REASON.png', 'WALL_WALK.png', 'WANDERBORNE.png', 'WARDEN_OF_RENEWAL_0.png', 'WARDEN_OF_RENEWAL_1.png', 'WARDEN_OF_RENEWAL_2.png', 'WARDEN_OF_THE_ELEMENTS_0.png', 'WARDEN_OF_THE_ELEMENTS_1.png', 'WARDEN_OF_THE_ELEMENTS_2.png', 'WAYFINDER_0.png', 'WAYFINDER_1.png', 'WAYFINDER_2.png', 'WHIRLWIND.png', 'WILD_FORTRESS.png', 'WILD_SURGE.png', 'WINGED_SENTINEL_0.png', 'WINGED_SENTINEL_1.png', 'WINGED_SENTINEL_2.png', 'WORDSMITH_0.png', 'WORDSMITH_1.png', 'WORDSMITH_2.png', 'WORDS_OF_DISCORD.png', 'WRANGLE.png', 'ZONE_OF_PROTECTION.png']\n"
     ]
    }
   ],
   "source": [
    "import os\n",
    "\n",
    "CARD_FOLDER = \"cards\"\n",
    "\n",
    "card_filenames = [\n",
    "    f for f in os.listdir(CARD_FOLDER)\n",
    "    if os.path.isfile(os.path.join(CARD_FOLDER, f))\n",
    "]\n",
    "\n",
    "print(card_filenames)"
   ]
  },
  {
   "cell_type": "code",
   "execution_count": null,
   "id": "dbd565a8",
   "metadata": {},
   "outputs": [],
   "source": [
    "from scripts.a4_creator import paste_cards\n",
    "\n",
    "paste_cards(CARD_FILENAMES, output_file_name=\"ciro_brawler.jpg\")"
   ]
  },
  {
   "cell_type": "markdown",
   "id": "ee9d9cc6",
   "metadata": {},
   "source": [
    "# Card Extracting"
   ]
  },
  {
   "cell_type": "code",
   "execution_count": null,
   "id": "59703094",
   "metadata": {},
   "outputs": [],
   "source": [
    "from scripts.card_extractor import card_extracting,extract_title,extract_title_regex,save_all_cards\n",
    "\n",
    "cards = card_extracting(\n",
    "    input_pdf=\"assets/Daggerheart_Core_Rulebook-5-20-2025-1.pdf\",\n",
    "    first_page=386,last_page=415)\n",
    "\n",
    "save_all_cards(cards)"
   ]
  }
 ],
 "metadata": {
  "kernelspec": {
   "display_name": ".venv",
   "language": "python",
   "name": "python3"
  },
  "language_info": {
   "codemirror_mode": {
    "name": "ipython",
    "version": 3
   },
   "file_extension": ".py",
   "mimetype": "text/x-python",
   "name": "python",
   "nbconvert_exporter": "python",
   "pygments_lexer": "ipython3",
   "version": "3.13.5"
  }
 },
 "nbformat": 4,
 "nbformat_minor": 5
}
