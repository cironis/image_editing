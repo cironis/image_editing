{
 "cells": [
  {
   "cell_type": "code",
   "execution_count": null,
   "id": "59703094",
   "metadata": {},
   "outputs": [],
   "source": [
    "from scripts.image_editing import card_extracting,extract_title,extract_title_regex,save_all_cards\n",
    "\n",
    "cards = card_extracting(\n",
    "    input_pdf=\"assets/Daggerheart_Core_Rulebook-5-20-2025-1.pdf\",\n",
    "    first_page=386,last_page=415)\n",
    "\n",
    "save_all_cards(cards)"
   ]
  },
  {
   "cell_type": "code",
   "execution_count": null,
   "id": "a2621516",
   "metadata": {},
   "outputs": [
    {
     "data": {
      "text/plain": [
       "[<PIL.Image.Image image mode=RGB size=500x700>,\n",
       " <PIL.Image.Image image mode=RGB size=500x700>]"
      ]
     },
     "execution_count": 4,
     "metadata": {},
     "output_type": "execute_result"
    }
   ],
   "source": [
    "cards[0:]"
   ]
  },
  {
   "cell_type": "code",
   "execution_count": null,
   "id": "084e0e04",
   "metadata": {},
   "outputs": [],
   "source": []
  }
 ],
 "metadata": {
  "kernelspec": {
   "display_name": ".venv",
   "language": "python",
   "name": "python3"
  },
  "language_info": {
   "codemirror_mode": {
    "name": "ipython",
    "version": 3
   },
   "file_extension": ".py",
   "mimetype": "text/x-python",
   "name": "python",
   "nbconvert_exporter": "python",
   "pygments_lexer": "ipython3",
   "version": "3.13.5"
  }
 },
 "nbformat": 4,
 "nbformat_minor": 5
}
